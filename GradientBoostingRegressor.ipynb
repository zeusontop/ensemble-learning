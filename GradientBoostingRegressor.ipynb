{
 "cells": [
  {
   "cell_type": "code",
   "execution_count": 3,
   "metadata": {},
   "outputs": [
    {
     "name": "stderr",
     "output_type": "stream",
     "text": [
      "Intel(R) Extension for Scikit-learn* enabled (https://github.com/intel/scikit-learn-intelex)\n"
     ]
    },
    {
     "data": {
      "text/html": [
       "<div>\n",
       "<style scoped>\n",
       "    .dataframe tbody tr th:only-of-type {\n",
       "        vertical-align: middle;\n",
       "    }\n",
       "\n",
       "    .dataframe tbody tr th {\n",
       "        vertical-align: top;\n",
       "    }\n",
       "\n",
       "    .dataframe thead th {\n",
       "        text-align: right;\n",
       "    }\n",
       "</style>\n",
       "<table border=\"1\" class=\"dataframe\">\n",
       "  <thead>\n",
       "    <tr style=\"text-align: right;\">\n",
       "      <th></th>\n",
       "      <th>ID</th>\n",
       "      <th>DAY_ID</th>\n",
       "      <th>COUNTRY</th>\n",
       "      <th>DE_CONSUMPTION</th>\n",
       "      <th>FR_CONSUMPTION</th>\n",
       "      <th>FR_DE_EXCHANGE</th>\n",
       "      <th>DE_NET_IMPORT</th>\n",
       "      <th>FR_NET_IMPORT</th>\n",
       "      <th>DE_GAS</th>\n",
       "      <th>FR_GAS</th>\n",
       "      <th>...</th>\n",
       "      <th>FR_RESIDUAL_LOAD</th>\n",
       "      <th>DE_RAIN</th>\n",
       "      <th>FR_RAIN</th>\n",
       "      <th>DE_WIND</th>\n",
       "      <th>FR_WIND</th>\n",
       "      <th>DE_TEMP</th>\n",
       "      <th>FR_TEMP</th>\n",
       "      <th>GAS_RET</th>\n",
       "      <th>COAL_RET</th>\n",
       "      <th>CARBON_RET</th>\n",
       "    </tr>\n",
       "  </thead>\n",
       "  <tbody>\n",
       "    <tr>\n",
       "      <th>0</th>\n",
       "      <td>730</td>\n",
       "      <td>1068</td>\n",
       "      <td>DE</td>\n",
       "      <td>1.458140</td>\n",
       "      <td>0.655233</td>\n",
       "      <td>-0.410717</td>\n",
       "      <td>-1.284736</td>\n",
       "      <td>-0.450144</td>\n",
       "      <td>-0.208664</td>\n",
       "      <td>0.434705</td>\n",
       "      <td>...</td>\n",
       "      <td>-0.169851</td>\n",
       "      <td>-0.204061</td>\n",
       "      <td>-0.219260</td>\n",
       "      <td>7.149098</td>\n",
       "      <td>3.216234</td>\n",
       "      <td>3.113181</td>\n",
       "      <td>2.139785</td>\n",
       "      <td>-0.211592</td>\n",
       "      <td>-1.165030</td>\n",
       "      <td>0.914272</td>\n",
       "    </tr>\n",
       "    <tr>\n",
       "      <th>1</th>\n",
       "      <td>273</td>\n",
       "      <td>959</td>\n",
       "      <td>DE</td>\n",
       "      <td>-0.014648</td>\n",
       "      <td>-0.873181</td>\n",
       "      <td>2.081281</td>\n",
       "      <td>1.108016</td>\n",
       "      <td>-1.208788</td>\n",
       "      <td>-0.410501</td>\n",
       "      <td>-1.230979</td>\n",
       "      <td>...</td>\n",
       "      <td>-1.504244</td>\n",
       "      <td>2.156969</td>\n",
       "      <td>5.218516</td>\n",
       "      <td>0.117698</td>\n",
       "      <td>0.445306</td>\n",
       "      <td>-1.601896</td>\n",
       "      <td>-1.370031</td>\n",
       "      <td>0.408783</td>\n",
       "      <td>-0.369350</td>\n",
       "      <td>-0.738291</td>\n",
       "    </tr>\n",
       "    <tr>\n",
       "      <th>2</th>\n",
       "      <td>911</td>\n",
       "      <td>499</td>\n",
       "      <td>DE</td>\n",
       "      <td>-0.800945</td>\n",
       "      <td>-1.390917</td>\n",
       "      <td>-0.302098</td>\n",
       "      <td>-0.793661</td>\n",
       "      <td>-0.411873</td>\n",
       "      <td>-0.734524</td>\n",
       "      <td>-0.043101</td>\n",
       "      <td>...</td>\n",
       "      <td>-2.096396</td>\n",
       "      <td>-0.192578</td>\n",
       "      <td>0.683547</td>\n",
       "      <td>1.384888</td>\n",
       "      <td>2.358903</td>\n",
       "      <td>1.433337</td>\n",
       "      <td>0.906934</td>\n",
       "      <td>1.053799</td>\n",
       "      <td>-1.363392</td>\n",
       "      <td>-0.726740</td>\n",
       "    </tr>\n",
       "    <tr>\n",
       "      <th>3</th>\n",
       "      <td>274</td>\n",
       "      <td>1050</td>\n",
       "      <td>DE</td>\n",
       "      <td>-0.132038</td>\n",
       "      <td>-0.697277</td>\n",
       "      <td>1.299494</td>\n",
       "      <td>1.628553</td>\n",
       "      <td>-1.093077</td>\n",
       "      <td>0.735354</td>\n",
       "      <td>-0.390132</td>\n",
       "      <td>...</td>\n",
       "      <td>-0.809076</td>\n",
       "      <td>-0.565251</td>\n",
       "      <td>-0.300878</td>\n",
       "      <td>-0.789039</td>\n",
       "      <td>-0.538239</td>\n",
       "      <td>-2.434426</td>\n",
       "      <td>-1.554886</td>\n",
       "      <td>-1.214039</td>\n",
       "      <td>-0.734142</td>\n",
       "      <td>-2.341894</td>\n",
       "    </tr>\n",
       "    <tr>\n",
       "      <th>4</th>\n",
       "      <td>619</td>\n",
       "      <td>291</td>\n",
       "      <td>DE</td>\n",
       "      <td>-0.056473</td>\n",
       "      <td>-0.728421</td>\n",
       "      <td>0.340486</td>\n",
       "      <td>-0.057127</td>\n",
       "      <td>-0.916117</td>\n",
       "      <td>0.175566</td>\n",
       "      <td>0.068640</td>\n",
       "      <td>...</td>\n",
       "      <td>-0.688561</td>\n",
       "      <td>-0.533701</td>\n",
       "      <td>-0.817087</td>\n",
       "      <td>0.006579</td>\n",
       "      <td>0.787396</td>\n",
       "      <td>-0.163353</td>\n",
       "      <td>0.422565</td>\n",
       "      <td>0.453732</td>\n",
       "      <td>0.103504</td>\n",
       "      <td>1.572016</td>\n",
       "    </tr>\n",
       "  </tbody>\n",
       "</table>\n",
       "<p>5 rows × 32 columns</p>\n",
       "</div>"
      ],
      "text/plain": [
       "    ID  DAY_ID COUNTRY  DE_CONSUMPTION  FR_CONSUMPTION  FR_DE_EXCHANGE  \\\n",
       "0  730    1068      DE        1.458140        0.655233       -0.410717   \n",
       "1  273     959      DE       -0.014648       -0.873181        2.081281   \n",
       "2  911     499      DE       -0.800945       -1.390917       -0.302098   \n",
       "3  274    1050      DE       -0.132038       -0.697277        1.299494   \n",
       "4  619     291      DE       -0.056473       -0.728421        0.340486   \n",
       "\n",
       "   DE_NET_IMPORT  FR_NET_IMPORT    DE_GAS    FR_GAS  ...  FR_RESIDUAL_LOAD  \\\n",
       "0      -1.284736      -0.450144 -0.208664  0.434705  ...         -0.169851   \n",
       "1       1.108016      -1.208788 -0.410501 -1.230979  ...         -1.504244   \n",
       "2      -0.793661      -0.411873 -0.734524 -0.043101  ...         -2.096396   \n",
       "3       1.628553      -1.093077  0.735354 -0.390132  ...         -0.809076   \n",
       "4      -0.057127      -0.916117  0.175566  0.068640  ...         -0.688561   \n",
       "\n",
       "    DE_RAIN   FR_RAIN   DE_WIND   FR_WIND   DE_TEMP   FR_TEMP   GAS_RET  \\\n",
       "0 -0.204061 -0.219260  7.149098  3.216234  3.113181  2.139785 -0.211592   \n",
       "1  2.156969  5.218516  0.117698  0.445306 -1.601896 -1.370031  0.408783   \n",
       "2 -0.192578  0.683547  1.384888  2.358903  1.433337  0.906934  1.053799   \n",
       "3 -0.565251 -0.300878 -0.789039 -0.538239 -2.434426 -1.554886 -1.214039   \n",
       "4 -0.533701 -0.817087  0.006579  0.787396 -0.163353  0.422565  0.453732   \n",
       "\n",
       "   COAL_RET  CARBON_RET  \n",
       "0 -1.165030    0.914272  \n",
       "1 -0.369350   -0.738291  \n",
       "2 -1.363392   -0.726740  \n",
       "3 -0.734142   -2.341894  \n",
       "4  0.103504    1.572016  \n",
       "\n",
       "[5 rows x 32 columns]"
      ]
     },
     "execution_count": 3,
     "metadata": {},
     "output_type": "execute_result"
    }
   ],
   "source": [
    "import pandas as pd\n",
    "from sklearn.impute import SimpleImputer\n",
    "from sklearn.model_selection import train_test_split\n",
    "from sklearn.preprocessing import StandardScaler\n",
    "from sklearn.ensemble import GradientBoostingRegressor\n",
    "from sklearn.metrics import mean_squared_error\n",
    "from sklearn.metrics import mean_absolute_error\n",
    "from sklearn.metrics import explained_variance_score\n",
    "from scipy import stats\n",
    "import xgboost as xgb\n",
    "from sklearn.model_selection import GridSearchCV\n",
    "from sklearnex import patch_sklearn\n",
    "from sklearn.model_selection import cross_val_score\n",
    "from sklearn.datasets import load_iris\n",
    "import numpy as np\n",
    "\n",
    "patch_sklearn()\n",
    "\n",
    "X_train_fr = pd.read_csv('x_train_fr.csv')\n",
    "X_train_de = pd.read_csv('x_train_de.csv')\n",
    "X_test_fr = pd.read_csv('x_test_fr.csv')\n",
    "X_test_de = pd.read_csv('x_test_de.csv')\n",
    "y_test_fr = pd.read_csv('y_test_fr.csv')\n",
    "y_test_de = pd.read_csv('y_test_de.csv')\n",
    "y_train_fr = pd.read_csv('y_train_fr.csv')\n",
    "y_train_de = pd.read_csv('y_train_de.csv')\n",
    "\n",
    "X_test_de.head()"
   ]
  },
  {
   "cell_type": "code",
   "execution_count": 4,
   "metadata": {},
   "outputs": [],
   "source": [
    "X_train_fr.drop(columns=['COUNTRY'], inplace=True)\n",
    "X_test_fr.drop(columns=['COUNTRY'], inplace=True)\n",
    "y_true_fr = y_test_fr.iloc[:, 1]\n",
    "y_train_fr_1 = y_train_fr.iloc[:, 1]"
   ]
  },
  {
   "cell_type": "code",
   "execution_count": 5,
   "metadata": {},
   "outputs": [],
   "source": [
    "X_train_de.drop(columns=['COUNTRY'], inplace=True)\n",
    "X_test_de.drop(columns=['COUNTRY'], inplace=True)\n",
    "y_true_de = y_test_de.iloc[:, 1]\n",
    "y_train_de_1 = y_train_de.iloc[:, 1]"
   ]
  },
  {
   "cell_type": "code",
   "execution_count": null,
   "metadata": {},
   "outputs": [],
   "source": [
    "GBR = GradientBoostingRegressor()\n",
    "\n",
    "param_grid = {\n",
    "    'n_estimators': [10, 20, 30, 50, 100, 200],\n",
    "    'learning_rate': [0.0001, 0.001, 0.005, 0.01, 0.1, 0.2],\n",
    "    'max_depth': [3, 4, 5]\n",
    "}\n",
    "\n",
    "grid_search = GridSearchCV(estimator=GBR, param_grid=param_grid, cv=3, n_jobs=-1, scoring='neg_mean_squared_error')\n",
    "\n",
    "grid_search.fit(X_train_fr, y_train_fr)\n",
    "GBR = grid_search.best_estimator_\n",
    "\n",
    "print(\"\\nBest Parameters:\", grid_search.best_params_)"
   ]
  },
  {
   "cell_type": "code",
   "execution_count": 6,
   "metadata": {},
   "outputs": [
    {
     "name": "stdout",
     "output_type": "stream",
     "text": [
      "Evaluation Metrics test:\n",
      "MAE: 0.8531950389428022\n",
      "MSE: 1.1237552880557584\n",
      "Spearman Correlation: 0.03143455711799676\n"
     ]
    }
   ],
   "source": [
    "GBR_fr = GradientBoostingRegressor(learning_rate= 0.001, max_depth= 3, n_estimators= 40)\n",
    "\n",
    "GBR_fr.fit(X_train_fr, y_train_fr_1)\n",
    "y_pred_gradient_boosting = GBR_fr.predict(X_test_fr)\n",
    "\n",
    "\n",
    "MAE_gradient_boosting = mean_absolute_error(y_true_fr, y_pred_gradient_boosting)\n",
    "MSE_gradient_boosting = mean_squared_error(y_true_fr, y_pred_gradient_boosting)\n",
    "\n",
    "Corr_gradient_boosting, _ = stats.spearmanr(y_true_fr, y_pred_gradient_boosting)\n",
    "\n",
    "print(\"Evaluation Metrics test:\")\n",
    "print(\"MAE:\", MAE_gradient_boosting)\n",
    "print(\"MSE:\", MSE_gradient_boosting)\n",
    "print(\"Spearman Correlation:\", Corr_gradient_boosting)"
   ]
  },
  {
   "cell_type": "code",
   "execution_count": 7,
   "metadata": {},
   "outputs": [
    {
     "name": "stdout",
     "output_type": "stream",
     "text": [
      "Evaluation Metrics Train:\n",
      "MAE: 0.5001871023627414\n",
      "MSE: 1.0376406768291284\n",
      "Spearman Correlation: 0.13007542979237\n"
     ]
    }
   ],
   "source": [
    "y_train_gradient_boosting_fr = GBR_fr.predict(X_train_fr)\n",
    "\n",
    "\n",
    "MAE_gradient_boosting = mean_absolute_error(y_train_fr_1, y_train_gradient_boosting_fr)\n",
    "MSE_gradient_boosting = mean_squared_error(y_train_fr_1, y_train_gradient_boosting_fr)\n",
    "\n",
    "Corr_gradient_boosting, _ = stats.spearmanr(y_train_fr_1, y_train_gradient_boosting_fr)\n",
    "\n",
    "print(\"Evaluation Metrics Train:\")\n",
    "print(\"MAE:\", MAE_gradient_boosting)\n",
    "print(\"MSE:\", MSE_gradient_boosting)\n",
    "print(\"Spearman Correlation:\", Corr_gradient_boosting)"
   ]
  },
  {
   "cell_type": "code",
   "execution_count": null,
   "metadata": {},
   "outputs": [],
   "source": [
    "GBR_de = GradientBoostingRegressor()\n",
    "\n",
    "param_grid = {\n",
    "    'n_estimators': [10, 20, 30, 50, 100, 200],\n",
    "    'learning_rate': [0.0001, 0.001, 0.005, 0.01, 0.1, 0.2],\n",
    "    'max_depth': [3, 4, 5]\n",
    "}\n",
    "\n",
    "grid_search = GridSearchCV(estimator=GBR_de, param_grid=param_grid, cv=3, n_jobs=-1, scoring='neg_mean_squared_error')\n",
    "\n",
    "grid_search.fit(X_train_de, y_train_de_1)\n",
    "GBR_de = grid_search.best_estimator_\n",
    "\n",
    "print(\"\\nBest Parameters:\", grid_search.best_params_)"
   ]
  },
  {
   "cell_type": "code",
   "execution_count": 8,
   "metadata": {},
   "outputs": [
    {
     "name": "stdout",
     "output_type": "stream",
     "text": [
      "Evaluation Metrics Test:\n",
      "MAE: 0.8110972538672294\n",
      "MSE: 0.9986218781359781\n",
      "Spearman Correlation: 0.23752545615152984\n"
     ]
    }
   ],
   "source": [
    "GBR_de_best = GradientBoostingRegressor(learning_rate= 0.008, max_depth= 8, n_estimators= 30)\n",
    "\n",
    "GBR_de_best.fit(X_train_de, y_train_de_1)\n",
    "y_pred_gradient_boosting_de = GBR_de_best.predict(X_test_de)\n",
    "\n",
    "\n",
    "MAE_gradient_boosting = mean_absolute_error(y_true_de, y_pred_gradient_boosting_de)\n",
    "MSE_gradient_boosting = mean_squared_error(y_true_de, y_pred_gradient_boosting_de)\n",
    "\n",
    "Corr_gradient_boosting, _ = stats.spearmanr(y_true_de, y_pred_gradient_boosting_de)\n",
    "\n",
    "print(\"Evaluation Metrics Test:\")\n",
    "print(\"MAE:\", MAE_gradient_boosting)\n",
    "print(\"MSE:\", MSE_gradient_boosting)\n",
    "print(\"Spearman Correlation:\", Corr_gradient_boosting)"
   ]
  },
  {
   "cell_type": "code",
   "execution_count": 10,
   "metadata": {},
   "outputs": [
    {
     "name": "stdout",
     "output_type": "stream",
     "text": [
      "Evaluation Metrics Train:\n",
      "MAE: 0.5878217926488171\n",
      "MSE: 0.8477292595912487\n",
      "Spearman Correlation: 0.634531486645206\n"
     ]
    }
   ],
   "source": [
    "y_train_gradient_boosting_de = GBR_de_best.predict(X_train_de)\n",
    "\n",
    "\n",
    "MAE_gradient_boosting = mean_absolute_error(y_train_de_1, y_train_gradient_boosting_de)\n",
    "MSE_gradient_boosting = mean_squared_error(y_train_de_1, y_train_gradient_boosting_de)\n",
    "\n",
    "Corr_gradient_boosting, _ = stats.spearmanr(y_train_de_1, y_train_gradient_boosting_de)\n",
    "\n",
    "print(\"Evaluation Metrics Train:\")\n",
    "print(\"MAE:\", MAE_gradient_boosting)\n",
    "print(\"MSE:\", MSE_gradient_boosting)\n",
    "print(\"Spearman Correlation:\", Corr_gradient_boosting)"
   ]
  },
  {
   "cell_type": "code",
   "execution_count": 18,
   "metadata": {},
   "outputs": [
    {
     "name": "stdout",
     "output_type": "stream",
     "text": [
      "Combined MSE with best parameters: 1.0684593316844793\n",
      "Spearman Correlation: 0.08616423730453814\n"
     ]
    }
   ],
   "source": [
    "import numpy as np\n",
    "Y_val_combined = np.concatenate((y_true_fr, y_true_de))\n",
    "Y_pred_combined = np.concatenate((y_pred_gradient_boosting, y_pred_gradient_boosting_de))\n",
    "\n",
    "mse_combined = mean_squared_error(Y_val_combined, Y_pred_combined)\n",
    "Corr_gradient_boosting, _ = stats.spearmanr(Y_val_combined, Y_pred_combined)\n",
    "\n",
    "print(f\"Combined MSE with best parameters: {mse_combined}\")\n",
    "print(\"Spearman Correlation:\", Corr_gradient_boosting)"
   ]
  },
  {
   "cell_type": "code",
   "execution_count": 19,
   "metadata": {},
   "outputs": [
    {
     "name": "stdout",
     "output_type": "stream",
     "text": [
      "Combined MSE with best parameters: 0.9559050400928789\n",
      "Spearman Correlation: 0.3368753083136654\n"
     ]
    }
   ],
   "source": [
    "Y_val_combined_test = np.concatenate((y_train_fr_1, y_train_de_1))\n",
    "Y_pred_combined_test = np.concatenate((y_train_gradient_boosting_fr, y_train_gradient_boosting_de))\n",
    "\n",
    "mse_combined = mean_squared_error(Y_val_combined_test, Y_pred_combined_test)\n",
    "Corr_gradient_boosting, _ = stats.spearmanr(Y_val_combined_test, Y_pred_combined_test)\n",
    "\n",
    "print(f\"Combined MSE with best parameters: {mse_combined}\")\n",
    "print(\"Spearman Correlation:\", Corr_gradient_boosting)"
   ]
  }
 ],
 "metadata": {
  "kernelspec": {
   "display_name": "base",
   "language": "python",
   "name": "python3"
  },
  "language_info": {
   "codemirror_mode": {
    "name": "ipython",
    "version": 3
   },
   "file_extension": ".py",
   "mimetype": "text/x-python",
   "name": "python",
   "nbconvert_exporter": "python",
   "pygments_lexer": "ipython3",
   "version": "3.9.18"
  }
 },
 "nbformat": 4,
 "nbformat_minor": 2
}
